{
 "cells": [
  {
   "cell_type": "markdown",
   "metadata": {},
   "source": [
    "Plotting the ERA5 and CARRA data to compare the climate means"
   ]
  },
  {
   "cell_type": "markdown",
   "metadata": {},
   "source": []
  },
  {
   "cell_type": "code",
   "execution_count": 3,
   "metadata": {},
   "outputs": [],
   "source": [
    "import metview as mv"
   ]
  },
  {
   "cell_type": "code",
   "execution_count": 1,
   "metadata": {},
   "outputs": [],
   "source": [
    "#retrieve the data from mv\n",
    "import copy\n",
    "\n",
    "\n",
    "def request_vars(params,dt,type='an',step=0,origin='no-ar-ce',database=None):\n",
    "    ds = {}\n",
    "    vars = copy.deepcopy(params)\n",
    "    paramlist = [vars[param]['param'] for param in vars]\n",
    "    ret = mv.retrieve(type=type,\n",
    "                      levtype='sfc',\n",
    "                      param=paramlist,\n",
    "                      date=dt.strftime(\"%Y-%m-%d\"),\n",
    "                      expver='prod',\n",
    "                      origin=origin,\n",
    "                      class_='rr',\n",
    "                      time=dt.strftime(\"%H\"),\n",
    "                      database=database,\n",
    "                      stream='oper',\n",
    "                      step=step)\n",
    "    #\n",
    "    x = ret.to_dataset()\n",
    "    attrs = x.variables[list(vars.keys())[0]].attrs\n",
    "    #\n",
    "    lon0 = attrs['GRIB_LoVInDegrees']\n",
    "    lat0 = attrs['GRIB_LaDInDegrees']\n",
    "    lat1 = attrs['GRIB_Latin1InDegrees']\n",
    "    lat2 = attrs['GRIB_Latin2InDegrees']\n",
    "    nx = attrs['GRIB_Nx']\n",
    "    ny = attrs['GRIB_Ny']\n",
    "    #   \n",
    "    lons = x.longitude.values\n",
    "    lats = x.latitude.values\n",
    "    #\n",
    "    lons2 = np.where(lons>180,lons-360,lons)\n",
    "    lon0 = np.where(lon0>180,lon0-360,lon0)\n",
    "    #\n",
    "    proj = ccrs.LambertConformal(central_latitude=lat0,\n",
    "                                 central_longitude=lon0,\n",
    "                                 standard_parallels=(lat1, lat2))\n",
    "    ds['misc'] = {'date':dt,\n",
    "                  'lons':lons2,\n",
    "                  'lats':lats,\n",
    "                  'proj':proj,\n",
    "                  'fcstep':step}\n",
    "    #\n",
    "    for param in vars:\n",
    "        missVal = x.variables[param].attrs['GRIB_missingValue']\n",
    "        val = ma.masked_values(x.variables[param].values,missVal)\n",
    "        vars[param]['field'] = val\n",
    "    #\n",
    "    ds['params'] = vars\n",
    "    return ds\n",
    "\n"
   ]
  },
  {
   "cell_type": "code",
   "execution_count": 4,
   "metadata": {},
   "outputs": [],
   "source": [
    "fin_era5 = \"era5-t2m-20210129.grib2\"\n",
    "era5 = mv.read(fin_era5)\n",
    "fin_carra=\"t2m-mean_carra-20210101-20210131.grib2\"\n",
    "carra = mv.read(fin_carra)\n",
    "\n"
   ]
  },
  {
   "cell_type": "code",
   "execution_count": 25,
   "metadata": {},
   "outputs": [
    {
     "name": "stderr",
     "output_type": "stream",
     "text": [
      "Ignoring index file '/home/cap/data/scripts/dataviz/metviz/python/carra/t2m-mean_carra-20210101-20210131.grib2.923a8.idx' incompatible with GRIB file\n"
     ]
    },
    {
     "data": {
      "text/plain": [
       "xarray.core.dataset.Dataset"
      ]
     },
     "execution_count": 25,
     "metadata": {},
     "output_type": "execute_result"
    }
   ],
   "source": [
    "carra_ds = carra.to_dataset()\n",
    "type(carra_ds)\n",
    "#carra_ds.variables.keys()\n",
    "#attrs = carra_ds.variables[\"time\"].attrs #[\"2 metre temperature\"].attrs\n",
    "#attrs.keys()\n"
   ]
  },
  {
   "cell_type": "code",
   "execution_count": 32,
   "metadata": {},
   "outputs": [
    {
     "data": {
      "text/plain": [
       "Coordinates:\n",
       "    time               datetime64[ns] ...\n",
       "    step               timedelta64[ns] ...\n",
       "    heightAboveGround  float64 ...\n",
       "    latitude           (y, x) float64 ...\n",
       "    longitude          (y, x) float64 ...\n",
       "    valid_time         datetime64[ns] ..."
      ]
     },
     "execution_count": 32,
     "metadata": {},
     "output_type": "execute_result"
    }
   ],
   "source": [
    "carra_ds.data_vars\n",
    "carra_ds.coords"
   ]
  },
  {
   "cell_type": "code",
   "execution_count": 3,
   "metadata": {},
   "outputs": [
    {
     "data": {
      "text/plain": [
       "[['2t', '20210101', '0000', '0', '20210101', '0']]"
      ]
     },
     "execution_count": 3,
     "metadata": {},
     "output_type": "execute_result"
    }
   ],
   "source": [
    "mv.grib_get(era5, ['shortName', 'dataDate', 'dataTime',\n",
    "                 'stepRange', 'validityDate', 'validityTime'])"
   ]
  },
  {
   "cell_type": "code",
   "execution_count": 4,
   "metadata": {},
   "outputs": [
    {
     "data": {
      "text/plain": [
       "[['2t', '20210101', '0000', '0', '20210101', '0']]"
      ]
     },
     "execution_count": 4,
     "metadata": {},
     "output_type": "execute_result"
    }
   ],
   "source": [
    "mv.grib_get(carra, ['shortName', 'dataDate', 'dataTime',\n",
    "                 'stepRange', 'validityDate', 'validityTime'])"
   ]
  },
  {
   "cell_type": "code",
   "execution_count": 5,
   "metadata": {},
   "outputs": [
    {
     "name": "stdout",
     "output_type": "stream",
     "text": [
      "223.11875915527344 307.94493103027344\n"
     ]
    }
   ],
   "source": [
    "print(mv.minvalue(era5), mv.maxvalue(era5))\n"
   ]
  },
  {
   "cell_type": "code",
   "execution_count": 6,
   "metadata": {},
   "outputs": [
    {
     "data": {
      "text/plain": [
       "[88.05481975728765, 53.809957665030055, 361.999315108157, -1.9999170364162637]"
      ]
     },
     "execution_count": 6,
     "metadata": {},
     "output_type": "execute_result"
    }
   ],
   "source": [
    "#north = mv.latitudes(era5).max()\n",
    "north = mv.latitudes(carra).max() + 2\n",
    "south = mv.latitudes(carra).min() - 2\n",
    "east = mv.longitudes(carra).max() + 2\n",
    "west = mv.longitudes(carra).min() - 2\n",
    "[north, south, east, west]"
   ]
  },
  {
   "cell_type": "markdown",
   "metadata": {},
   "source": [
    "max_points = mv.gfind(wg0, max0, max0*0.05)\n",
    "\n",
    "\n",
    "north = mv.latitudes(max_points).max() + 2\n",
    "south = mv.latitudes(max_points).min() - 2\n",
    "east = mv.longitudes(max_points).max() + 2\n",
    "west = mv.longitudes(max_points).min() - 2\n",
    "[north, south, east, west]"
   ]
  },
  {
   "cell_type": "code",
   "execution_count": 7,
   "metadata": {},
   "outputs": [],
   "source": [
    "view = mv.geoview(\n",
    "    map_area_definition = \"corners\",\n",
    "    area                = [south, west, north, east]\n",
    "    )"
   ]
  },
  {
   "cell_type": "code",
   "execution_count": 8,
   "metadata": {},
   "outputs": [
    {
     "data": {
      "application/vnd.jupyter.widget-view+json": {
       "model_id": "7c80a0c9c8724a0d9df9b5685ca3833b",
       "version_major": 2,
       "version_minor": 0
      },
      "text/plain": [
       "Image(value=b'', layout=\"Layout(visibility='hidden')\")"
      ]
     },
     "metadata": {},
     "output_type": "display_data"
    },
    {
     "data": {
      "application/vnd.jupyter.widget-view+json": {
       "model_id": "c3dfbc6622fb47fc9c564ea3a6e20782",
       "version_major": 2,
       "version_minor": 0
      },
      "text/plain": [
       "Label(value='Generating plots....')"
      ]
     },
     "metadata": {},
     "output_type": "display_data"
    },
    {
     "name": "stdout",
     "output_type": "stream",
     "text": [
      "Python - ERROR  - 20230607.123438 - Line 0 in 'PythonScript': uPlotBatch run failed with exit code: 35584\n"
     ]
    },
    {
     "ename": "Exception",
     "evalue": "Metview error: Error calling Metview function",
     "output_type": "error",
     "traceback": [
      "\u001b[0;31m---------------------------------------------------------------------------\u001b[0m",
      "\u001b[0;31mException\u001b[0m                                 Traceback (most recent call last)",
      "Cell \u001b[0;32mIn[8], line 1\u001b[0m\n\u001b[0;32m----> 1\u001b[0m \u001b[43mmv\u001b[49m\u001b[38;5;241;43m.\u001b[39;49m\u001b[43mplot\u001b[49m\u001b[43m(\u001b[49m\u001b[43mview\u001b[49m\u001b[43m,\u001b[49m\u001b[43m \u001b[49m\u001b[43mcarra\u001b[49m\u001b[43m)\u001b[49m \u001b[38;5;66;03m#, coloured_markers)\u001b[39;00m\n",
      "File \u001b[0;32m/media/cap/7fed51bd-a88e-4971-9656-d617655b6312/data/sources/conda/miniconda3/envs/dataviz/lib/python3.10/site-packages/metview/bindings.py:1441\u001b[0m, in \u001b[0;36mPlot.__call__\u001b[0;34m(self, *args, **kwargs)\u001b[0m\n\u001b[1;32m   1439\u001b[0m \u001b[38;5;28;01mif\u001b[39;00m \u001b[38;5;28mself\u001b[39m\u001b[38;5;241m.\u001b[39mplot_to_jupyter:  \u001b[38;5;66;03m# pragma: no cover\u001b[39;00m\n\u001b[1;32m   1440\u001b[0m     \u001b[38;5;28;01mif\u001b[39;00m \u001b[38;5;28mself\u001b[39m\u001b[38;5;241m.\u001b[39mplot_widget:\n\u001b[0;32m-> 1441\u001b[0m         \u001b[38;5;28;01mreturn\u001b[39;00m \u001b[43mplot_to_notebook\u001b[49m\u001b[43m(\u001b[49m\u001b[43margs\u001b[49m\u001b[43m,\u001b[49m\u001b[43m \u001b[49m\u001b[38;5;241;43m*\u001b[39;49m\u001b[38;5;241;43m*\u001b[39;49m\u001b[43mkwargs\u001b[49m\u001b[43m)\u001b[49m\n\u001b[1;32m   1442\u001b[0m     \u001b[38;5;28;01melse\u001b[39;00m:\n\u001b[1;32m   1443\u001b[0m         \u001b[38;5;28;01mreturn\u001b[39;00m plot_to_notebook_return_image(args, \u001b[38;5;241m*\u001b[39m\u001b[38;5;241m*\u001b[39mkwargs)\n",
      "File \u001b[0;32m/media/cap/7fed51bd-a88e-4971-9656-d617655b6312/data/sources/conda/miniconda3/envs/dataviz/lib/python3.10/site-packages/metview/bindings.py:1523\u001b[0m, in \u001b[0;36mplot_to_notebook\u001b[0;34m(*args, **kwargs)\u001b[0m\n\u001b[1;32m   1517\u001b[0m plot_path \u001b[38;5;241m=\u001b[39m os\u001b[38;5;241m.\u001b[39mpath\u001b[38;5;241m.\u001b[39mjoin(tempdirpath, \u001b[38;5;124m\"\u001b[39m\u001b[38;5;124mplot\u001b[39m\u001b[38;5;124m\"\u001b[39m)\n\u001b[1;32m   1518\u001b[0m met_setoutput(\n\u001b[1;32m   1519\u001b[0m     png_output(\n\u001b[1;32m   1520\u001b[0m         output_name\u001b[38;5;241m=\u001b[39mplot_path, output_file_minimal_width\u001b[38;5;241m=\u001b[39m\u001b[38;5;241m3\u001b[39m, \u001b[38;5;241m*\u001b[39m\u001b[38;5;241m*\u001b[39mplot\u001b[38;5;241m.\u001b[39mjupyter_args\n\u001b[1;32m   1521\u001b[0m     )\n\u001b[1;32m   1522\u001b[0m )\n\u001b[0;32m-> 1523\u001b[0m \u001b[43mmet_plot\u001b[49m\u001b[43m(\u001b[49m\u001b[38;5;241;43m*\u001b[39;49m\u001b[43margs\u001b[49m\u001b[43m)\u001b[49m\n\u001b[1;32m   1524\u001b[0m (_, _, filenames) \u001b[38;5;241m=\u001b[39m \u001b[38;5;28mnext\u001b[39m(os\u001b[38;5;241m.\u001b[39mwalk(tempdirpath), (\u001b[38;5;28;01mNone\u001b[39;00m, \u001b[38;5;28;01mNone\u001b[39;00m, \u001b[38;5;28;01mNone\u001b[39;00m))\n\u001b[1;32m   1526\u001b[0m \u001b[38;5;28;01mif\u001b[39;00m filenames \u001b[38;5;129;01mis\u001b[39;00m \u001b[38;5;28;01mNone\u001b[39;00m:\n",
      "File \u001b[0;32m/media/cap/7fed51bd-a88e-4971-9656-d617655b6312/data/sources/conda/miniconda3/envs/dataviz/lib/python3.10/site-packages/metview/bindings.py:1274\u001b[0m, in \u001b[0;36mmake.<locals>.wrapped\u001b[0;34m(*args, **kwargs)\u001b[0m\n\u001b[1;32m   1271\u001b[0m     \u001b[38;5;28;01mpass\u001b[39;00m  \u001b[38;5;66;03m# throw Exception\u001b[39;00m\n\u001b[1;32m   1273\u001b[0m val \u001b[38;5;241m=\u001b[39m lib\u001b[38;5;241m.\u001b[39mp_result_as_value()\n\u001b[0;32m-> 1274\u001b[0m \u001b[38;5;28;01mreturn\u001b[39;00m \u001b[43mvalue_from_metview\u001b[49m\u001b[43m(\u001b[49m\u001b[43mval\u001b[49m\u001b[43m)\u001b[49m\n",
      "File \u001b[0;32m/media/cap/7fed51bd-a88e-4971-9656-d617655b6312/data/sources/conda/miniconda3/envs/dataviz/lib/python3.10/site-packages/metview/bindings.py:1228\u001b[0m, in \u001b[0;36mvalue_from_metview\u001b[0;34m(val)\u001b[0m\n\u001b[1;32m   1226\u001b[0m retval \u001b[38;5;241m=\u001b[39m vr\u001b[38;5;241m.\u001b[39mtranslate_return_val(val)\n\u001b[1;32m   1227\u001b[0m \u001b[38;5;28;01mif\u001b[39;00m \u001b[38;5;28misinstance\u001b[39m(retval, \u001b[38;5;167;01mException\u001b[39;00m):\n\u001b[0;32m-> 1228\u001b[0m     \u001b[38;5;28;01mraise\u001b[39;00m retval\n\u001b[1;32m   1229\u001b[0m \u001b[38;5;28;01mreturn\u001b[39;00m retval\n",
      "\u001b[0;31mException\u001b[0m: Metview error: Error calling Metview function"
     ]
    }
   ],
   "source": [
    "mv.plot(view, carra) #, coloured_markers)\n"
   ]
  },
  {
   "cell_type": "code",
   "execution_count": null,
   "metadata": {},
   "outputs": [],
   "source": []
  }
 ],
 "metadata": {
  "kernelspec": {
   "display_name": "Python 3 (ipykernel)",
   "language": "python",
   "name": "python3"
  },
  "language_info": {
   "codemirror_mode": {
    "name": "ipython",
    "version": 3
   },
   "file_extension": ".py",
   "mimetype": "text/x-python",
   "name": "python",
   "nbconvert_exporter": "python",
   "pygments_lexer": "ipython3",
   "version": "3.10.8"
  },
  "vscode": {
   "interpreter": {
    "hash": "1f50b0b7b8442f9694a28a57100a1625a4e4216c1aaf968441df72bdb396b50e"
   }
  }
 },
 "nbformat": 4,
 "nbformat_minor": 4
}
